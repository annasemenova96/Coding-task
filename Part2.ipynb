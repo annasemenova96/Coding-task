{
 "cells": [
  {
   "cell_type": "code",
   "execution_count": 1,
   "metadata": {},
   "outputs": [],
   "source": [
    "import numpy as np\n",
    "import pandas as pd\n",
    "import nltk\n",
    "from bs4 import BeautifulSoup"
   ]
  },
  {
   "cell_type": "markdown",
   "metadata": {},
   "source": [
    "Import the data. In several lines there are too many commas and read_csv is confused with the delimiter. If we choose to omit these lines, we see from the response below that only a negligible amount of lines is omitted, so it is ok. "
   ]
  },
  {
   "cell_type": "code",
   "execution_count": 2,
   "metadata": {},
   "outputs": [
    {
     "name": "stderr",
     "output_type": "stream",
     "text": [
      "b'Skipping line 8836: expected 4 fields, saw 5\\n'\n",
      "b'Skipping line 535882: expected 4 fields, saw 7\\n'\n"
     ]
    }
   ],
   "source": [
    "data=pd.read_csv('Sentiment Analysis Dataset.csv',error_bad_lines=False)\n",
    "data.drop(['ItemID','SentimentSource'],axis=1,inplace=True)"
   ]
  },
  {
   "cell_type": "code",
   "execution_count": 3,
   "metadata": {},
   "outputs": [
    {
     "name": "stdout",
     "output_type": "stream",
     "text": [
      "(1578612, 2)\n"
     ]
    }
   ],
   "source": [
    "print(data.shape)"
   ]
  },
  {
   "cell_type": "markdown",
   "metadata": {},
   "source": [
    "For the training let's use the random sample of 100 000 tweets:"
   ]
  },
  {
   "cell_type": "code",
   "execution_count": 4,
   "metadata": {},
   "outputs": [],
   "source": [
    "data=data.sample(100000)"
   ]
  },
  {
   "cell_type": "markdown",
   "metadata": {},
   "source": [
    "For now let's remove all the non-Latin letters and other characters. It might be a good idea to analyse emoji as well, however, twitter is full of sarcasm so this part might remain for future research. "
   ]
  },
  {
   "cell_type": "code",
   "execution_count": 5,
   "metadata": {},
   "outputs": [
    {
     "name": "stdout",
     "output_type": "stream",
     "text": [
      "[nltk_data] Error loading wordnet: <urlopen error [Errno 8] nodename\n",
      "[nltk_data]     nor servname provided, or not known>\n"
     ]
    }
   ],
   "source": [
    "nltk.download('wordnet')\n",
    "tokenizer=nltk.tokenize.TreebankWordTokenizer()\n",
    "lemmatizer = nltk.stem.WordNetLemmatizer()"
   ]
  },
  {
   "cell_type": "code",
   "execution_count": 6,
   "metadata": {},
   "outputs": [],
   "source": [
    "def text_prepare(df, text_field):\n",
    "    df[text_field]=df.apply(lambda row: BeautifulSoup(row[text_field]).get_text(), axis=1)\n",
    "    df[text_field] = df[text_field].str.lower()\n",
    "    df[text_field] = df[text_field].str.replace(r\"http\\S+\", \"\") #remove links\n",
    "    df[text_field] = df[text_field].str.replace(r\"www.\\S+\", \"\") #remove links\n",
    "    df[text_field] = df[text_field].str.replace(r\"@\\S+\", \"\") #remove mentions\n",
    "    df[text_field] = df[text_field].str.replace(r\"[^a-z\\']\", \" \") #remove non-Latin symbols\n",
    "    df[text_field] = df[text_field].str.replace(r\" +\", \" \") #remove additional white spaces\n",
    "    df.dropna(subset=[text_field],inplace=True)\n",
    "    #lemmatize all words in text to analyze only the stem of the words in use\n",
    "    df[text_field]=df.apply(lambda row: ' '.join([lemmatizer.lemmatize(t) for t in tokenizer.tokenize(row[text_field])]), axis=1)\n",
    "    #replace some most popular non-words \n",
    "    df[text_field] = df[text_field].str.replace(\"n't\", \"not\")\n",
    "    df[text_field] = df[text_field].str.replace(\"'m\", \"am\")\n",
    "    df[text_field] = df[text_field].str.replace(\"im\", \"i am\")\n",
    "    df[text_field] = df[text_field].str.replace(\"mi\", \"my\")\n",
    "    return df"
   ]
  },
  {
   "cell_type": "code",
   "execution_count": 7,
   "metadata": {},
   "outputs": [
    {
     "name": "stdout",
     "output_type": "stream",
     "text": [
      "         Sentiment                                      SentimentText\n",
      "279468           0  that 's a shame especially if it wa building u...\n",
      "701186           0  getting ready for school got ta go in non unif...\n",
      "247054           0     alex man shawn with no cut shawn with no swagg\n",
      "458341           1                                            niceeee\n",
      "1435334          1                         i bought a sick beanie hat\n"
     ]
    }
   ],
   "source": [
    "cleaned_data=text_prepare(data, 'SentimentText')\n",
    "print(cleaned_data.head())"
   ]
  },
  {
   "cell_type": "code",
   "execution_count": 8,
   "metadata": {},
   "outputs": [
    {
     "data": {
      "text/plain": [
       "CountVectorizer(analyzer='word', binary=False, decode_error='strict',\n",
       "        dtype=<class 'numpy.int64'>, encoding='utf-8', input='content',\n",
       "        lowercase=True, max_df=1.0, max_features=None, min_df=1,\n",
       "        ngram_range=(1, 1), preprocessor=None, stop_words=None,\n",
       "        strip_accents=None, token_pattern='(?u)\\\\b\\\\w\\\\w+\\\\b',\n",
       "        tokenizer=None, vocabulary=None)"
      ]
     },
     "execution_count": 8,
     "metadata": {},
     "output_type": "execute_result"
    }
   ],
   "source": [
    "from sklearn.feature_extraction.text import CountVectorizer\n",
    "cvec = CountVectorizer()\n",
    "cvec.fit(cleaned_data['SentimentText'])"
   ]
  },
  {
   "cell_type": "markdown",
   "metadata": {},
   "source": [
    "The code below shows the top-10 most positive words and top-10 most negative words (words more frequent with positive and negative labels respectively) using the sparse matrix. \n",
    "Idea taken from: https://towardsdatascience.com/another-twitter-sentiment-analysis-with-python-part-2-333514854913\n"
   ]
  },
  {
   "cell_type": "code",
   "execution_count": 9,
   "metadata": {},
   "outputs": [],
   "source": [
    "pos_matrix = cvec.transform(cleaned_data[cleaned_data['Sentiment'] == 1]['SentimentText'])\n",
    "neg_matrix = cvec.transform(cleaned_data[cleaned_data['Sentiment'] == 0]['SentimentText'])\n",
    "pos_tf = np.sum(pos_matrix,axis=0)\n",
    "neg_tf = np.sum(neg_matrix,axis=0)\n",
    "pos = np.squeeze(np.asarray(pos_tf))\n",
    "neg = np.squeeze(np.asarray(neg_tf))\n",
    "term_freq_df = pd.DataFrame([pos,neg],columns=cvec.get_feature_names()).transpose()\n",
    "term_freq_df.columns = ['positive','negative']\n",
    "term_freq_df['total'] = term_freq_df['negative'] + term_freq_df['positive']"
   ]
  },
  {
   "cell_type": "code",
   "execution_count": 10,
   "metadata": {},
   "outputs": [
    {
     "name": "stdout",
     "output_type": "stream",
     "text": [
      "the    16815\n",
      "to     15656\n",
      "you    12390\n",
      "it     10624\n",
      "and     9415\n",
      "my      7891\n",
      "for     7229\n",
      "am      7141\n",
      "is      7058\n",
      "in      6418\n",
      "Name: positive, dtype: int64\n",
      "to     19759\n",
      "the    16245\n",
      "not    12347\n",
      "my     12090\n",
      "it     11663\n",
      "and     9743\n",
      "am      9652\n",
      "is      8498\n",
      "in      7210\n",
      "you     6498\n",
      "Name: negative, dtype: int64\n"
     ]
    }
   ],
   "source": [
    "print(term_freq_df.sort_values(by='positive', ascending=False)['positive'].iloc[:10])\n",
    "print(term_freq_df.sort_values(by='negative', ascending=False)['negative'].iloc[:10])"
   ]
  },
  {
   "cell_type": "markdown",
   "metadata": {},
   "source": [
    "From the results above we see that the most frequent positive and negative words are the same (actually, these are the words that would not help classify tweets - stopwords)."
   ]
  },
  {
   "cell_type": "code",
   "execution_count": 11,
   "metadata": {},
   "outputs": [],
   "source": [
    "term_freq_df=term_freq_df.sort_values(by='total', ascending=False)"
   ]
  },
  {
   "cell_type": "markdown",
   "metadata": {},
   "source": [
    "The plot below shows the frequency of 500 most popular words. "
   ]
  },
  {
   "cell_type": "code",
   "execution_count": 14,
   "metadata": {},
   "outputs": [
    {
     "data": {
      "image/png": "[encoded data removed]",
      "text/plain": [
       "<Figure size 1080x720 with 1 Axes>"
      ]
     },
     "metadata": {
      "needs_background": "light"
     },
     "output_type": "display_data"
    }
   ],
   "source": [
    "import matplotlib.pyplot as plt\n",
    "plt.figure(figsize=(15,10))\n",
    "x=np.arange(1,term_freq_df.shape[0]+1)\n",
    "plt.bar(x[:500],term_freq_df['total'][:500])\n",
    "plt.xlabel('rank')\n",
    "plt.ylabel('frequency')\n",
    "plt.show()"
   ]
  },
  {
   "cell_type": "markdown",
   "metadata": {},
   "source": [
    "If we want to check the Zipf's law for all the words in the dataset, we need to assign the ranking properly so that the words with the same frequency have the same rank. "
   ]
  },
  {
   "cell_type": "code",
   "execution_count": 13,
   "metadata": {},
   "outputs": [
    {
     "data": {
      "image/png": "[encoded data removed]",
      "text/plain": [
       "<Figure size 1080x720 with 1 Axes>"
      ]
     },
     "metadata": {
      "needs_background": "light"
     },
     "output_type": "display_data"
    }
   ],
   "source": [
    "rank=term_freq_df['total'].rank(ascending=False,method='min')\n",
    "plt.figure(figsize=(15,10))\n",
    "plt.plot(np.log(rank),np.log(term_freq_df['total']))\n",
    "plt.xlabel('ln(rank)')\n",
    "plt.ylabel('ln(frequency)')\n",
    "plt.show()"
   ]
  },
  {
   "cell_type": "markdown",
   "metadata": {},
   "source": [
    "The plot above proves that Zipf's law holds for this dataset. "
   ]
  },
  {
   "cell_type": "markdown",
   "metadata": {},
   "source": [
    "Now that the data is cleaned we can apply the model to predict sentiment. Taking into account the size of the dataset, I will use logistic model for this classification. \n",
    "To analyze tweets and convert them into numerical data I will apply tf-idf vectorizer with various n-grams to account for phrases. "
   ]
  },
  {
   "cell_type": "markdown",
   "metadata": {},
   "source": [
    "Firstly, check that positive and negative tweets are equally distributed:"
   ]
  },
  {
   "cell_type": "code",
   "execution_count": 15,
   "metadata": {},
   "outputs": [
    {
     "name": "stdout",
     "output_type": "stream",
     "text": [
      "(50102, 2)\n",
      "(49898, 2)\n"
     ]
    }
   ],
   "source": [
    "print(cleaned_data[cleaned_data['Sentiment']==1].shape)\n",
    "print(cleaned_data[cleaned_data['Sentiment']==0].shape)"
   ]
  },
  {
   "cell_type": "markdown",
   "metadata": {},
   "source": [
    "Secondly, split the data into train and test sets. "
   ]
  },
  {
   "cell_type": "code",
   "execution_count": 16,
   "metadata": {},
   "outputs": [],
   "source": [
    "from sklearn.model_selection import train_test_split\n",
    "x=cleaned_data['SentimentText']\n",
    "y=cleaned_data['Sentiment'].values\n",
    "x_train, x_test, y_train, y_test = train_test_split(x,y, test_size=.1, random_state=19)"
   ]
  },
  {
   "cell_type": "code",
   "execution_count": 24,
   "metadata": {},
   "outputs": [],
   "source": [
    "from sklearn.feature_extraction.text import TfidfVectorizer\n",
    "from sklearn.pipeline import Pipeline\n",
    "from sklearn.linear_model import LogisticRegression\n",
    "from sklearn.metrics import accuracy_score\n",
    "from sklearn.model_selection import GridSearchCV\n",
    "pipeline=Pipeline([\n",
    "    ('tfidf', TfidfVectorizer()),\n",
    "    ('clf', LogisticRegression())\n",
    "])\n",
    "parameters = {\n",
    "    'tfidf__ngram_range': ((1, 1), (1, 2), (1, 3)),  # use unigrams, bigrams or trigrams\n",
    "    #'tfidf__use_idf': (True, False),\n",
    "    #'tfidf__norm': ('l1', 'l2'),\n",
    "    'clf__C': np.logspace(-4, 4, 5), #try different regularization \n",
    "    #'clf__penalty': ('l1', 'l2'),\n",
    "}"
   ]
  },
  {
   "cell_type": "code",
   "execution_count": 25,
   "metadata": {},
   "outputs": [
    {
     "name": "stdout",
     "output_type": "stream",
     "text": [
      "Pipeline(memory=None,\n",
      "     steps=[('tfidf', TfidfVectorizer(analyzer='word', binary=False, decode_error='strict',\n",
      "        dtype=<class 'numpy.int64'>, encoding='utf-8', input='content',\n",
      "        lowercase=True, max_df=1.0, max_features=None, min_df=1,\n",
      "        ngram_range=(1, 2), norm='l2', preprocessor=None, smooth_idf=True,\n",
      " ...ty='l2', random_state=None, solver='liblinear', tol=0.0001,\n",
      "          verbose=0, warm_start=False))])\n"
     ]
    }
   ],
   "source": [
    "estimator = GridSearchCV(pipeline,parameters,cv=5) #apply GridSearch to find best parameters\n",
    "estimator.fit(x_train, y_train)\n",
    "print(estimator.best_estimator_)"
   ]
  },
  {
   "cell_type": "code",
   "execution_count": 26,
   "metadata": {},
   "outputs": [
    {
     "name": "stdout",
     "output_type": "stream",
     "text": [
      "Accuracy on train set =   0.8782555555555556\n",
      "Accuracy on test set =   0.794\n"
     ]
    }
   ],
   "source": [
    "from sklearn.metrics import accuracy_score\n",
    "print('Accuracy on train set =',' ', accuracy_score(y_train, estimator.predict(x_train)))\n",
    "print('Accuracy on test set =',' ', accuracy_score(y_test, estimator.predict(x_test)))"
   ]
  },
  {
   "cell_type": "markdown",
   "metadata": {},
   "source": [
    "Now let's try to remove the words from the dataset that are the same in positive and negative sets as they might impede classification. Taking the default stopwords for English language might not be a good idea. For example, the default stopwords contain 'not' and we should not remove it, because when using n-grams, 'like' and 'not like' can make a huge contribution for classification. Therefore, I create my own set of stopwords out of the most frequent words. "
   ]
  },
  {
   "cell_type": "code",
   "execution_count": 27,
   "metadata": {},
   "outputs": [],
   "source": [
    "sw=['you','the', 'to','it','and','for','am','that','is','in','they','other','my']"
   ]
  },
  {
   "cell_type": "code",
   "execution_count": 28,
   "metadata": {},
   "outputs": [],
   "source": [
    "pipeline=Pipeline([\n",
    "    ('tfidf', TfidfVectorizer(stop_words=sw)),\n",
    "    ('clf', LogisticRegression())\n",
    "])\n",
    "parameters = {\n",
    "    'tfidf__ngram_range': ((1, 1), (1, 2), (1, 3)),  # use unigrams, bigrams or trigrams\n",
    "    #'tfidf__use_idf': (True, False),\n",
    "    #'tfidf__norm': ('l1', 'l2'),\n",
    "    'clf__C': np.logspace(-4, 4, 5), #try different regularization\n",
    "    #'clf__penalty': ('l1', 'l2'),\n",
    "}"
   ]
  },
  {
   "cell_type": "code",
   "execution_count": 29,
   "metadata": {},
   "outputs": [
    {
     "name": "stdout",
     "output_type": "stream",
     "text": [
      "Pipeline(memory=None,\n",
      "     steps=[('tfidf', TfidfVectorizer(analyzer='word', binary=False, decode_error='strict',\n",
      "        dtype=<class 'numpy.int64'>, encoding='utf-8', input='content',\n",
      "        lowercase=True, max_df=1.0, max_features=None, min_df=1,\n",
      "        ngram_range=(1, 2), norm='l2', preprocessor=None, smooth_idf=True,\n",
      " ...ty='l2', random_state=None, solver='liblinear', tol=0.0001,\n",
      "          verbose=0, warm_start=False))])\n",
      "Accuracy on train set =   0.8820555555555556\n",
      "Accuracy on test set =   0.7885\n"
     ]
    }
   ],
   "source": [
    "estimator = GridSearchCV(pipeline,parameters,cv=5) #apply GridSearch to find best parameters\n",
    "estimator.fit(x_train, y_train)\n",
    "print(estimator.best_estimator_)\n",
    "print('Accuracy on train set =',' ', accuracy_score(y_train, estimator.predict(x_train)))\n",
    "print('Accuracy on test set =',' ', accuracy_score(y_test, estimator.predict(x_test)))"
   ]
  },
  {
   "cell_type": "markdown",
   "metadata": {},
   "source": [
    "Actually, we see that accuracy on test set has fallen after removing stop words. So a further analysis to improve the results can include:\n",
    "    - playing around more with the lexical part, for example including more or better stopwords\n",
    "    - comparing different models, for example SVC, naive bayes classifier or CNN (actually, CNN should achieve high results on this task)\n",
    "    - trying different methods of text analysis, for example word2vec algorithm, or extending the model to incude emoji"
   ]
  }
 ],
 "metadata": {
  "kernelspec": {
   "display_name": "Python 3",
   "language": "python",
   "name": "python3"
  },
  "language_info": {
   "codemirror_mode": {
    "name": "ipython",
    "version": 3
   },
   "file_extension": ".py",
   "mimetype": "text/x-python",
   "name": "python",
   "nbconvert_exporter": "python",
   "pygments_lexer": "ipython3",
   "version": "3.7.0"
  }
 },
 "nbformat": 4,
 "nbformat_minor": 2
}

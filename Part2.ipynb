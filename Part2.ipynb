{
 "cells": [
  {
   "cell_type": "code",
   "execution_count": 1,
   "metadata": {},
   "outputs": [],
   "source": [
    "import numpy as np\n",
    "import pandas as pd\n",
    "import nltk\n",
    "from bs4 import BeautifulSoup"
   ]
  },
  {
   "cell_type": "markdown",
   "metadata": {},
   "source": [
    "Import the data. In several lines there are too many commas and read_csv is confused with the delimiter. If we choose to omit these lines, we see from the response below that only a negligible amount of lines is omitted, so it is ok. "
   ]
  },
  {
   "cell_type": "code",
   "execution_count": 2,
   "metadata": {},
   "outputs": [
    {
     "name": "stderr",
     "output_type": "stream",
     "text": [
      "b'Skipping line 8836: expected 4 fields, saw 5\\n'\n",
      "b'Skipping line 535882: expected 4 fields, saw 7\\n'\n"
     ]
    }
   ],
   "source": [
    "data=pd.read_csv('Sentiment Analysis Dataset.csv',error_bad_lines=False)\n",
    "data.drop(['ItemID','SentimentSource'],axis=1,inplace=True)"
   ]
  },
  {
   "cell_type": "code",
   "execution_count": 3,
   "metadata": {},
   "outputs": [
    {
     "name": "stdout",
     "output_type": "stream",
     "text": [
      "(1578612, 2)\n"
     ]
    }
   ],
   "source": [
    "print(data.shape)"
   ]
  },
  {
   "cell_type": "markdown",
   "metadata": {},
   "source": [
    "For the training let's use the random sample of 200 000 tweets:"
   ]
  },
  {
   "cell_type": "code",
   "execution_count": 4,
   "metadata": {},
   "outputs": [],
   "source": [
    "data=data.sample(200000)"
   ]
  },
  {
   "cell_type": "markdown",
   "metadata": {},
   "source": [
    "For now let's remove all the non-Latin letters and other characters. It might be a good idea to analyse emoji as well, however, twitter is full of sarcasm so this part might remain for future research. "
   ]
  },
  {
   "cell_type": "code",
   "execution_count": 5,
   "metadata": {},
   "outputs": [
    {
     "name": "stdout",
     "output_type": "stream",
     "text": [
      "[nltk_data] Downloading package wordnet to /Users/anna_s/nltk_data...\n",
      "[nltk_data]   Package wordnet is already up-to-date!\n"
     ]
    }
   ],
   "source": [
    "nltk.download('wordnet')\n",
    "tokenizer=nltk.tokenize.TreebankWordTokenizer()\n",
    "lemmatizer = nltk.stem.WordNetLemmatizer()"
   ]
  },
  {
   "cell_type": "code",
   "execution_count": 6,
   "metadata": {},
   "outputs": [],
   "source": [
    "def text_prepare(df, text_field):\n",
    "    df[text_field]=df.apply(lambda row: BeautifulSoup(row[text_field]).get_text(), axis=1) #convert html encoding to text\n",
    "    df[text_field] = df[text_field].str.lower()\n",
    "    df[text_field] = df[text_field].str.replace(r\"http\\S+\", \"\") #remove links\n",
    "    df[text_field] = df[text_field].str.replace(r\"www.\\S+\", \"\") #remove links\n",
    "    df[text_field] = df[text_field].str.replace(r\"@\\S+\", \"\") #remove mentions\n",
    "    df[text_field] = df[text_field].str.replace(r\"[^a-z\\']\", \" \") #remove non-Latin symbols\n",
    "    df[text_field] = df[text_field].str.replace(r\" +\", \" \") #remove additional white spaces\n",
    "    df[text_field] = df[text_field].str.replace(r\"(.)\\1+\", r\"\\1\\1\") #remove repeating characters\n",
    "    df.dropna(subset=[text_field],inplace=True)\n",
    "    #lemmatize all words in text to analyze only the stem of the words in use\n",
    "    df[text_field]=df.apply(lambda row: ' '.join([lemmatizer.lemmatize(t) for t in tokenizer.tokenize(row[text_field])]), axis=1)\n",
    "    #replace some most popular non-words \n",
    "    df[text_field] = df[text_field].str.replace(\"n't\", \"not\")\n",
    "    df[text_field] = df[text_field].str.replace(\"'m\", \"am\")\n",
    "    df[text_field] = df[text_field].str.replace(\"im\", \"i am\")\n",
    "    df[text_field] = df[text_field].str.replace(\"mi\", \"my\")\n",
    "    return df"
   ]
  },
  {
   "cell_type": "code",
   "execution_count": 7,
   "metadata": {},
   "outputs": [
    {
     "name": "stdout",
     "output_type": "stream",
     "text": [
      "         Sentiment                                      SentimentText\n",
      "164622           0  he 's managing a pizza shop but it mean that i...\n",
      "269915           1  there ha been a problem with twitteriffic sinc...\n",
      "28592            0                                    i am sorry babe\n",
      "999643           1                                    jack in a crack\n",
      "1311993          0                                                hug\n"
     ]
    }
   ],
   "source": [
    "cleaned_data=text_prepare(data, 'SentimentText')\n",
    "print(cleaned_data.head())"
   ]
  },
  {
   "cell_type": "code",
   "execution_count": 8,
   "metadata": {},
   "outputs": [
    {
     "data": {
      "text/plain": [
       "CountVectorizer(analyzer='word', binary=False, decode_error='strict',\n",
       "        dtype=<class 'numpy.int64'>, encoding='utf-8', input='content',\n",
       "        lowercase=True, max_df=1.0, max_features=None, min_df=1,\n",
       "        ngram_range=(1, 1), preprocessor=None, stop_words=None,\n",
       "        strip_accents=None, token_pattern='(?u)\\\\b\\\\w\\\\w+\\\\b',\n",
       "        tokenizer=None, vocabulary=None)"
      ]
     },
     "execution_count": 8,
     "metadata": {},
     "output_type": "execute_result"
    }
   ],
   "source": [
    "from sklearn.feature_extraction.text import CountVectorizer\n",
    "cvec = CountVectorizer()\n",
    "cvec.fit(cleaned_data['SentimentText'])"
   ]
  },
  {
   "cell_type": "markdown",
   "metadata": {},
   "source": [
    "The code below shows the top-10 most positive words and top-10 most negative words (words more frequent with positive and negative labels respectively) using the sparse matrix. \n",
    "Idea taken from: https://towardsdatascience.com/another-twitter-sentiment-analysis-with-python-part-2-333514854913\n"
   ]
  },
  {
   "cell_type": "code",
   "execution_count": 9,
   "metadata": {},
   "outputs": [],
   "source": [
    "pos_matrix = cvec.transform(cleaned_data[cleaned_data['Sentiment'] == 1]['SentimentText'])\n",
    "neg_matrix = cvec.transform(cleaned_data[cleaned_data['Sentiment'] == 0]['SentimentText'])\n",
    "pos_tf = np.sum(pos_matrix,axis=0)\n",
    "neg_tf = np.sum(neg_matrix,axis=0)\n",
    "pos = np.squeeze(np.asarray(pos_tf))\n",
    "neg = np.squeeze(np.asarray(neg_tf))\n",
    "term_freq_df = pd.DataFrame([pos,neg],columns=cvec.get_feature_names()).transpose()\n",
    "term_freq_df.columns = ['positive','negative']\n",
    "term_freq_df['total'] = term_freq_df['negative'] + term_freq_df['positive']"
   ]
  },
  {
   "cell_type": "code",
   "execution_count": 10,
   "metadata": {},
   "outputs": [
    {
     "name": "stdout",
     "output_type": "stream",
     "text": [
      "the    33473\n",
      "to     31499\n",
      "you    24657\n",
      "it     21093\n",
      "and    18884\n",
      "my     15892\n",
      "for    14858\n",
      "is     13975\n",
      "am     13903\n",
      "in     12675\n",
      "Name: positive, dtype: int64\n",
      "to     39540\n",
      "the    32568\n",
      "not    24874\n",
      "my     23695\n",
      "it     23296\n",
      "am     19259\n",
      "and    19194\n",
      "is     16840\n",
      "in     14594\n",
      "you    13001\n",
      "Name: negative, dtype: int64\n"
     ]
    }
   ],
   "source": [
    "print(term_freq_df.sort_values(by='positive', ascending=False)['positive'].iloc[:10])\n",
    "print(term_freq_df.sort_values(by='negative', ascending=False)['negative'].iloc[:10])"
   ]
  },
  {
   "cell_type": "markdown",
   "metadata": {},
   "source": [
    "From the results above we see that the most frequent positive and negative words are the same (actually, these are the words that would not help classify tweets - stopwords)."
   ]
  },
  {
   "cell_type": "code",
   "execution_count": 11,
   "metadata": {},
   "outputs": [],
   "source": [
    "term_freq_df=term_freq_df.sort_values(by='total', ascending=False)"
   ]
  },
  {
   "cell_type": "markdown",
   "metadata": {},
   "source": [
    "The plot below shows the frequency of 500 most popular words. "
   ]
  },
  {
   "cell_type": "code",
   "execution_count": 22,
   "metadata": {},
   "outputs": [
    {
     "data": {
      "image/png": "[encoded data removed]",
      "text/plain": [
       "<Figure size 1080x720 with 1 Axes>"
      ]
     },
     "metadata": {
      "needs_background": "light"
     },
     "output_type": "display_data"
    }
   ],
   "source": [
    "import matplotlib.pyplot as plt\n",
    "plt.figure(figsize=(15,10))\n",
    "x=np.arange(1,term_freq_df.shape[0]+1)\n",
    "plt.bar(x[:500],term_freq_df['total'][:500])\n",
    "plt.xlabel('rank')\n",
    "plt.ylabel('frequency')\n",
    "plt.show()"
   ]
  },
  {
   "cell_type": "markdown",
   "metadata": {},
   "source": [
    "If we want to check the Zipf's law for all the words in the dataset, we need to assign the ranking properly so that the words with the same frequency have the same rank. "
   ]
  },
  {
   "cell_type": "code",
   "execution_count": 13,
   "metadata": {},
   "outputs": [
    {
     "data": {
      "image/png": "[encoded data removed]",
      "text/plain": [
       "<Figure size 1080x720 with 1 Axes>"
      ]
     },
     "metadata": {
      "needs_background": "light"
     },
     "output_type": "display_data"
    }
   ],
   "source": [
    "rank=term_freq_df['total'].rank(ascending=False,method='min')\n",
    "plt.figure(figsize=(15,10))\n",
    "plt.plot(np.log(rank),np.log(term_freq_df['total']))\n",
    "plt.xlabel('ln(rank)')\n",
    "plt.ylabel('ln(frequency)')\n",
    "plt.show()"
   ]
  },
  {
   "cell_type": "markdown",
   "metadata": {},
   "source": [
    "The plot above proves that Zipf's law holds for this dataset. "
   ]
  },
  {
   "cell_type": "markdown",
   "metadata": {},
   "source": [
    "Now that the data is cleaned we can apply the model to predict sentiment. Taking into account the size of the dataset, I will use logistic model for this classification. \n",
    "To analyze tweets and convert them into numerical data I will apply tf-idf vectorizer with various n-grams to account for phrases. "
   ]
  },
  {
   "cell_type": "markdown",
   "metadata": {},
   "source": [
    "Firstly, check that positive and negative tweets are evenly distributed:"
   ]
  },
  {
   "cell_type": "code",
   "execution_count": 14,
   "metadata": {},
   "outputs": [
    {
     "name": "stdout",
     "output_type": "stream",
     "text": [
      "(100096, 2)\n",
      "(99904, 2)\n"
     ]
    }
   ],
   "source": [
    "print(cleaned_data[cleaned_data['Sentiment']==1].shape)\n",
    "print(cleaned_data[cleaned_data['Sentiment']==0].shape)"
   ]
  },
  {
   "cell_type": "markdown",
   "metadata": {},
   "source": [
    "Secondly, split the data into train and test sets. "
   ]
  },
  {
   "cell_type": "code",
   "execution_count": 15,
   "metadata": {},
   "outputs": [],
   "source": [
    "from sklearn.model_selection import train_test_split\n",
    "x=cleaned_data['SentimentText']\n",
    "y=cleaned_data['Sentiment'].values\n",
    "x_train, x_test, y_train, y_test = train_test_split(x,y, test_size=.1, random_state=19)"
   ]
  },
  {
   "cell_type": "code",
   "execution_count": 16,
   "metadata": {},
   "outputs": [],
   "source": [
    "from sklearn.feature_extraction.text import TfidfVectorizer\n",
    "from sklearn.pipeline import Pipeline\n",
    "from sklearn.linear_model import LogisticRegression\n",
    "from sklearn.metrics import accuracy_score\n",
    "from sklearn.model_selection import GridSearchCV\n",
    "pipeline=Pipeline([\n",
    "    ('vect', CountVectorizer()),\n",
    "    ('tfidf', TfidfVectorizer()),\n",
    "    ('clf', LogisticRegression())\n",
    "])\n",
    "parameters = {\n",
    "    'vect__ngram_range': ((1, 1), (1, 2), (1, 3)),  # use unigrams, bigrams or trigrams\n",
    "    'tfidf__ngram_range': ((1, 1), (1, 2), (1, 3)),  # use unigrams, bigrams or trigrams\n",
    "    #'tfidf__use_idf': (True, False),\n",
    "    #'tfidf__norm': ('l1', 'l2'),\n",
    "    'clf__C': np.logspace(-4, 4, 5), #try different regularization \n",
    "    #'clf__penalty': ('l1', 'l2'),\n",
    "}"
   ]
  },
  {
   "cell_type": "code",
   "execution_count": 17,
   "metadata": {},
   "outputs": [
    {
     "name": "stdout",
     "output_type": "stream",
     "text": [
      "Pipeline(memory=None,\n",
      "     steps=[('tfidf', TfidfVectorizer(analyzer='word', binary=False, decode_error='strict',\n",
      "        dtype=<class 'numpy.int64'>, encoding='utf-8', input='content',\n",
      "        lowercase=True, max_df=1.0, max_features=None, min_df=1,\n",
      "        ngram_range=(1, 2), norm='l2', preprocessor=None, smooth_idf=True,\n",
      " ...ty='l2', random_state=None, solver='liblinear', tol=0.0001,\n",
      "          verbose=0, warm_start=False))])\n"
     ]
    }
   ],
   "source": [
    "estimator = GridSearchCV(pipeline,parameters,cv=5) #apply GridSearch to find best parameters\n",
    "estimator.fit(x_train, y_train)\n",
    "print(estimator.best_estimator_)"
   ]
  },
  {
   "cell_type": "code",
   "execution_count": 18,
   "metadata": {},
   "outputs": [
    {
     "name": "stdout",
     "output_type": "stream",
     "text": [
      "Accuracy on train set =   0.8763833333333333\n",
      "Accuracy on test set =   0.8034\n"
     ]
    }
   ],
   "source": [
    "from sklearn.metrics import accuracy_score\n",
    "print('Accuracy on train set =',' ', accuracy_score(y_train, estimator.predict(x_train)))\n",
    "print('Accuracy on test set =',' ', accuracy_score(y_test, estimator.predict(x_test)))"
   ]
  },
  {
   "cell_type": "markdown",
   "metadata": {},
   "source": [
    "Now let's try to remove the words from the dataset that are the same in positive and negative sets as they might impede classification. Taking the default stopwords for English language might not be a good idea. For example, the default stopwords contain 'not' and we should not remove it, because when using n-grams, 'like' and 'not like' can make a huge contribution for classification. Therefore, I create my own set of stopwords out of the most frequent words. "
   ]
  },
  {
   "cell_type": "code",
   "execution_count": 19,
   "metadata": {},
   "outputs": [],
   "source": [
    "sw=['you','the', 'to','it','and','for','am','that','is','in','they','other','my','but', 'i', \"'re\", \"'s\", \"'cause\",\n",
    "   'because','are', 'a', \"'d\"]"
   ]
  },
  {
   "cell_type": "code",
   "execution_count": 20,
   "metadata": {},
   "outputs": [],
   "source": [
    "pipeline=Pipeline([\n",
    "    ('vect', CountVectorizer(stop_words=sw)),\n",
    "    ('tfidf', TfidfVectorizer(stop_words=sw)),\n",
    "    ('clf', LogisticRegression())\n",
    "])\n",
    "parameters = {\n",
    "    'vect__ngram_range': ((1, 1), (1, 2), (1, 3)),  # use unigrams, bigrams or trigrams\n",
    "    'tfidf__ngram_range': ((1, 1), (1, 2), (1, 3)),  # use unigrams, bigrams or trigrams\n",
    "    #'tfidf__use_idf': (True, False),\n",
    "    #'tfidf__norm': ('l1', 'l2'),\n",
    "    'clf__C': np.logspace(-4, 4, 5), #try different regularization\n",
    "    #'clf__penalty': ('l1', 'l2'),\n",
    "}"
   ]
  },
  {
   "cell_type": "code",
   "execution_count": 21,
   "metadata": {},
   "outputs": [
    {
     "name": "stdout",
     "output_type": "stream",
     "text": [
      "Pipeline(memory=None,\n",
      "     steps=[('tfidf', TfidfVectorizer(analyzer='word', binary=False, decode_error='strict',\n",
      "        dtype=<class 'numpy.int64'>, encoding='utf-8', input='content',\n",
      "        lowercase=True, max_df=1.0, max_features=None, min_df=1,\n",
      "        ngram_range=(1, 2), norm='l2', preprocessor=None, smooth_idf=True,\n",
      " ...ty='l2', random_state=None, solver='liblinear', tol=0.0001,\n",
      "          verbose=0, warm_start=False))])\n",
      "Accuracy on train set =   0.8780888888888889\n",
      "Accuracy on test set =   0.7991\n"
     ]
    }
   ],
   "source": [
    "estimator = GridSearchCV(pipeline,parameters,cv=5) #apply GridSearch to find best parameters\n",
    "estimator.fit(x_train, y_train)\n",
    "print(estimator.best_estimator_)\n",
    "print('Accuracy on train set =',' ', accuracy_score(y_train, estimator.predict(x_train)))\n",
    "print('Accuracy on test set =',' ', accuracy_score(y_test, estimator.predict(x_test)))"
   ]
  },
  {
   "cell_type": "markdown",
   "metadata": {},
   "source": [
    "Actually, we see that accuracy on test set has fallen after removing stop words. So a further analysis to improve the results can include:\n",
    "    - playing around more with the lexical part, for example including more or better stopwords\n",
    "    - comparing different models, for example SVC, naive bayes classifier or CNN (actually, CNN should achieve high results on this task)\n",
    "    - trying different methods of text analysis, for example word2vec algorithm, or extending the model to incude emoji"
   ]
  }
 ],
 "metadata": {
  "kernelspec": {
   "display_name": "Python 3",
   "language": "python",
   "name": "python3"
  },
  "language_info": {
   "codemirror_mode": {
    "name": "ipython",
    "version": 3
   },
   "file_extension": ".py",
   "mimetype": "text/x-python",
   "name": "python",
   "nbconvert_exporter": "python",
   "pygments_lexer": "ipython3",
   "version": "3.7.0"
  }
 },
 "nbformat": 4,
 "nbformat_minor": 2
}
